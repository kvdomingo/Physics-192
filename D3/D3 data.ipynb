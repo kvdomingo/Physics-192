{
 "cells": [
  {
   "cell_type": "code",
   "execution_count": 44,
   "metadata": {
    "ExecuteTime": {
     "end_time": "2019-05-09T08:13:43.405521Z",
     "start_time": "2019-05-09T08:13:43.393920Z"
    }
   },
   "outputs": [],
   "source": [
    "import numpy as np\n",
    "import matplotlib.pyplot as mp\n",
    "import matplotlib.ticker as tick\n",
    "import scipy.stats as stat\n",
    "from jupyterthemes import jtplot"
   ]
  },
  {
   "cell_type": "code",
   "execution_count": 45,
   "metadata": {
    "ExecuteTime": {
     "end_time": "2019-05-09T08:13:44.789326Z",
     "start_time": "2019-05-09T08:13:44.774805Z"
    }
   },
   "outputs": [],
   "source": [
    "jtplot.reset()\n",
    "mp.style.use(\"seaborn\")\n",
    "mp.rcParams[\"text.usetex\"] = True\n",
    "mp.rcParams[\"font.family\"] = \"serif\"\n",
    "mp.rcParams[\"figure.figsize\"] = (5*16/9,5)\n",
    "mp.rcParams[\"figure.dpi\"] = 100\n",
    "#mp.rcParams[\"text.latex.preamble\"] = [r\"\\usepackage{physics}\"]"
   ]
  },
  {
   "cell_type": "code",
   "execution_count": 46,
   "metadata": {
    "ExecuteTime": {
     "end_time": "2019-05-09T08:13:45.404468Z",
     "start_time": "2019-05-09T08:13:45.397970Z"
    }
   },
   "outputs": [],
   "source": [
    "def f(p, q):\n",
    "    return 1/(1/p + 1/q)"
   ]
  },
  {
   "cell_type": "code",
   "execution_count": 47,
   "metadata": {
    "ExecuteTime": {
     "end_time": "2019-05-09T08:14:16.278495Z",
     "start_time": "2019-05-09T08:14:16.263180Z"
    }
   },
   "outputs": [],
   "source": [
    "fl, fs = [], []\n",
    "for file in [\"karen.txt\", \"ares.txt\", \"charles.txt\"]:\n",
    "    obj, img = np.genfromtxt(file, skip_header=1, unpack=True) * 1e-2\n",
    "    fl.append(f(obj, img).mean())\n",
    "    fs.append(f(obj, img).std())\n",
    "fl = np.array(fl)\n",
    "fs = np.array(fs)"
   ]
  },
  {
   "cell_type": "code",
   "execution_count": 54,
   "metadata": {
    "ExecuteTime": {
     "end_time": "2019-05-09T08:16:45.674935Z",
     "start_time": "2019-05-09T08:16:45.352049Z"
    },
    "scrolled": false
   },
   "outputs": [
    {
     "data": {
      "image/png": "[encoded data removed]",
      "text/plain": [
       "<Figure size 888.889x500 with 1 Axes>"
      ]
     },
     "metadata": {},
     "output_type": "display_data"
    }
   ],
   "source": [
    "fig = mp.figure()\n",
    "ax = fig.add_subplot(111)\n",
    "ax.errorbar(range(1, len(fl)+1), fl, fs, None, \"o\")\n",
    "ax.set_xlabel(\"Trial\")\n",
    "ax.set_ylabel(\"focal length (mm)\")\n",
    "ax.xaxis.set_major_locator(tick.MultipleLocator(1))\n",
    "ax.set_xlim(0, 4)\n",
    "mp.show()"
   ]
  }
 ],
 "metadata": {
  "kernelspec": {
   "display_name": "Python 3",
   "language": "python",
   "name": "python3"
  },
  "language_info": {
   "codemirror_mode": {
    "name": "ipython",
    "version": 3
   },
   "file_extension": ".py",
   "mimetype": "text/x-python",
   "name": "python",
   "nbconvert_exporter": "python",
   "pygments_lexer": "ipython3",
   "version": "3.6.8"
  },
  "latex_envs": {
   "LaTeX_envs_menu_present": true,
   "autoclose": true,
   "autocomplete": false,
   "bibliofile": "biblio.bib",
   "cite_by": "apalike",
   "current_citInitial": 1,
   "eqLabelWithNumbers": true,
   "eqNumInitial": 1,
   "hotkeys": {
    "equation": "Ctrl-E",
    "itemize": "Ctrl-I"
   },
   "labels_anchors": false,
   "latex_user_defs": false,
   "report_style_numbering": false,
   "user_envs_cfg": false
  },
  "varInspector": {
   "cols": {
    "lenName": 16,
    "lenType": 16,
    "lenVar": 40
   },
   "kernels_config": {
    "python": {
     "delete_cmd_postfix": "",
     "delete_cmd_prefix": "del ",
     "library": "var_list.py",
     "varRefreshCmd": "print(var_dic_list())"
    },
    "r": {
     "delete_cmd_postfix": ") ",
     "delete_cmd_prefix": "rm(",
     "library": "var_list.r",
     "varRefreshCmd": "cat(var_dic_list()) "
    }
   },
   "types_to_exclude": [
    "module",
    "function",
    "builtin_function_or_method",
    "instance",
    "_Feature"
   ],
   "window_display": false
  }
 },
 "nbformat": 4,
 "nbformat_minor": 2
}
